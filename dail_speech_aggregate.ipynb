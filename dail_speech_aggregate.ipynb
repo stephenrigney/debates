{
 "cells": [
  {
   "cell_type": "code",
   "execution_count": 49,
   "metadata": {
    "collapsed": true
   },
   "outputs": [],
   "source": [
    "from pymongo import MongoClient\n",
    "from bson.son import SON\n",
    "import datetime\n",
    "import pandas as pd\n"
   ]
  },
  {
   "cell_type": "code",
   "execution_count": 4,
   "metadata": {
    "collapsed": true
   },
   "outputs": [],
   "source": [
    "db = MongoClient().texts.dail"
   ]
  },
  {
   "cell_type": "markdown",
   "metadata": {},
   "source": [
    "## Group Dáil contributions by month and year."
   ]
  },
  {
   "cell_type": "code",
   "execution_count": 56,
   "metadata": {
    "collapsed": false
   },
   "outputs": [],
   "source": [
    "speeches_by_month = db.aggregate(\n",
    "  [ \n",
    "    { \"$project\" : { \"year\": {\"$year\": \"$date\"} ,\n",
    "                    \"month\" : { \"$month\" : \"$date\" },\n",
    "                   \"word_count\" : \"$len_doc\"} } ,\n",
    "    { \"$group\" : { \"_id\" : {\"month\":\"$month\",\n",
    "                            \"year\":\"$year\"} ,\n",
    "                  \"contributions_count\" : { \"$sum\" : 1 },\n",
    "                  \"total_words\": {\"$sum\": \"$word_count\"},\n",
    "                    \"avg_word_count\": {\"$avg\" : \"$word_count\"}} },\n",
    "    { \"$sort\" : { \"_id.year\": 1,\n",
    "                 \"_id.month\" : 1 } }\n",
    "  ]\n",
    ")\n",
    "speeches = [s for s in speeches_by_month]"
   ]
  },
  {
   "cell_type": "code",
   "execution_count": 65,
   "metadata": {
    "collapsed": false
   },
   "outputs": [],
   "source": [
    "#flatten _id\n",
    "for s in speeches:\n",
    "    s['year'] = s[\"_id\"]['year']\n",
    "    s['month'] = s[\"_id\"]['month']\n",
    "    s.pop(\"_id\")"
   ]
  },
  {
   "cell_type": "code",
   "execution_count": 66,
   "metadata": {
    "collapsed": false
   },
   "outputs": [],
   "source": [
    "counts = pd.DataFrame(speeches)"
   ]
  },
  {
   "cell_type": "code",
   "execution_count": 69,
   "metadata": {
    "collapsed": false
   },
   "outputs": [],
   "source": [
    "counts.to_pickle(\"dail_contributions.pickle\")"
   ]
  },
  {
   "cell_type": "code",
   "execution_count": null,
   "metadata": {
    "collapsed": true
   },
   "outputs": [],
   "source": []
  }
 ],
 "metadata": {
  "kernelspec": {
   "display_name": "Python 3",
   "language": "python",
   "name": "python3"
  },
  "language_info": {
   "codemirror_mode": {
    "name": "ipython",
    "version": 3
   },
   "file_extension": ".py",
   "mimetype": "text/x-python",
   "name": "python",
   "nbconvert_exporter": "python",
   "pygments_lexer": "ipython3",
   "version": "3.4.3"
  }
 },
 "nbformat": 4,
 "nbformat_minor": 0
}
